{
 "cells": [
  {
   "cell_type": "code",
   "execution_count": 18,
   "metadata": {},
   "outputs": [],
   "source": [
    "import pandas as pd\n",
    "from webdriver_manager.chrome import ChromeDriverManager\n",
    "from splinter import Browser\n",
    "import matplotlib.pyplot as plt\n",
    "import scipy.stats  as stats"
   ]
  },
  {
   "cell_type": "code",
   "execution_count": 2,
   "metadata": {},
   "outputs": [
    {
     "name": "stderr",
     "output_type": "stream",
     "text": [
      "[WDM] - Current google-chrome version is 87.0.4280\n",
      "[WDM] - Get LATEST driver version for 87.0.4280\n",
      "[WDM] - Get LATEST driver version for 87.0.4280\n",
      "[WDM] - Trying to download new driver from http://chromedriver.storage.googleapis.com/87.0.4280.88/chromedriver_win32.zip\n"
     ]
    },
    {
     "name": "stdout",
     "output_type": "stream",
     "text": [
      " \n"
     ]
    },
    {
     "name": "stderr",
     "output_type": "stream",
     "text": [
      "[WDM] - Driver has been saved in cache [C:\\Users\\kheat\\.wdm\\drivers\\chromedriver\\win32\\87.0.4280.88]\n"
     ]
    }
   ],
   "source": [
    "executable_path = {'executable_path': ChromeDriverManager().install()}\n",
    "browser = Browser('chrome', **executable_path, headless=False)"
   ]
  },
  {
   "cell_type": "code",
   "execution_count": 3,
   "metadata": {},
   "outputs": [],
   "source": [
    "url = 'https://baseballsavant.mlb.com/team/140/'\n",
    "browser.visit(url)\n",
    "\n",
    "dfs = pd.read_html(browser.html)\n",
    "df = dfs[0]\n",
    "rangerPlayersList = df.iloc[0:20,0].tolist()"
   ]
  },
  {
   "cell_type": "code",
   "execution_count": 4,
   "metadata": {},
   "outputs": [
    {
     "data": {
      "text/html": [
       "<div>\n",
       "<style scoped>\n",
       "    .dataframe tbody tr th:only-of-type {\n",
       "        vertical-align: middle;\n",
       "    }\n",
       "\n",
       "    .dataframe tbody tr th {\n",
       "        vertical-align: top;\n",
       "    }\n",
       "\n",
       "    .dataframe thead th {\n",
       "        text-align: right;\n",
       "    }\n",
       "</style>\n",
       "<table border=\"1\" class=\"dataframe\">\n",
       "  <thead>\n",
       "    <tr style=\"text-align: right;\">\n",
       "      <th></th>\n",
       "      <th>last_name</th>\n",
       "      <th>first_name</th>\n",
       "    </tr>\n",
       "  </thead>\n",
       "  <tbody>\n",
       "    <tr>\n",
       "      <th>0</th>\n",
       "      <td>Tejeda</td>\n",
       "      <td>Anderson</td>\n",
       "    </tr>\n",
       "    <tr>\n",
       "      <th>1</th>\n",
       "      <td>Taveras</td>\n",
       "      <td>Leody</td>\n",
       "    </tr>\n",
       "    <tr>\n",
       "      <th>2</th>\n",
       "      <td>Santana</td>\n",
       "      <td>Danny</td>\n",
       "    </tr>\n",
       "    <tr>\n",
       "      <th>3</th>\n",
       "      <td>Odor</td>\n",
       "      <td>Rougned</td>\n",
       "    </tr>\n",
       "    <tr>\n",
       "      <th>4</th>\n",
       "      <td>Romine</td>\n",
       "      <td>Andrew</td>\n",
       "    </tr>\n",
       "    <tr>\n",
       "      <th>5</th>\n",
       "      <td>Andrus</td>\n",
       "      <td>Elvis</td>\n",
       "    </tr>\n",
       "    <tr>\n",
       "      <th>6</th>\n",
       "      <td>Garcia</td>\n",
       "      <td>Adolis</td>\n",
       "    </tr>\n",
       "    <tr>\n",
       "      <th>7</th>\n",
       "      <td>White</td>\n",
       "      <td>Eli</td>\n",
       "    </tr>\n",
       "    <tr>\n",
       "      <th>8</th>\n",
       "      <td>Trevino</td>\n",
       "      <td>Jose</td>\n",
       "    </tr>\n",
       "    <tr>\n",
       "      <th>9</th>\n",
       "      <td>Kiner-Falefa</td>\n",
       "      <td>Isiah</td>\n",
       "    </tr>\n",
       "    <tr>\n",
       "      <th>10</th>\n",
       "      <td>Guzman</td>\n",
       "      <td>Ronald</td>\n",
       "    </tr>\n",
       "    <tr>\n",
       "      <th>11</th>\n",
       "      <td>Huff</td>\n",
       "      <td>Sam</td>\n",
       "    </tr>\n",
       "    <tr>\n",
       "      <th>12</th>\n",
       "      <td>Rivera</td>\n",
       "      <td>Yadiel</td>\n",
       "    </tr>\n",
       "    <tr>\n",
       "      <th>13</th>\n",
       "      <td>Dietrich</td>\n",
       "      <td>Derek</td>\n",
       "    </tr>\n",
       "    <tr>\n",
       "      <th>14</th>\n",
       "      <td>Gallo</td>\n",
       "      <td>Joey</td>\n",
       "    </tr>\n",
       "    <tr>\n",
       "      <th>15</th>\n",
       "      <td>Apostel</td>\n",
       "      <td>Sherten</td>\n",
       "    </tr>\n",
       "    <tr>\n",
       "      <th>16</th>\n",
       "      <td>Calhoun</td>\n",
       "      <td>Willie</td>\n",
       "    </tr>\n",
       "    <tr>\n",
       "      <th>17</th>\n",
       "      <td>Solak</td>\n",
       "      <td>Nick</td>\n",
       "    </tr>\n",
       "    <tr>\n",
       "      <th>18</th>\n",
       "      <td>Choo</td>\n",
       "      <td>Shin-Soo</td>\n",
       "    </tr>\n",
       "    <tr>\n",
       "      <th>19</th>\n",
       "      <td>Mathis</td>\n",
       "      <td>Jeff</td>\n",
       "    </tr>\n",
       "  </tbody>\n",
       "</table>\n",
       "</div>"
      ],
      "text/plain": [
       "       last_name first_name\n",
       "0         Tejeda   Anderson\n",
       "1        Taveras      Leody\n",
       "2        Santana      Danny\n",
       "3           Odor    Rougned\n",
       "4         Romine     Andrew\n",
       "5         Andrus      Elvis\n",
       "6         Garcia     Adolis\n",
       "7          White        Eli\n",
       "8        Trevino       Jose\n",
       "9   Kiner-Falefa      Isiah\n",
       "10        Guzman     Ronald\n",
       "11          Huff        Sam\n",
       "12        Rivera     Yadiel\n",
       "13      Dietrich      Derek\n",
       "14         Gallo       Joey\n",
       "15       Apostel    Sherten\n",
       "16       Calhoun     Willie\n",
       "17         Solak       Nick\n",
       "18          Choo   Shin-Soo\n",
       "19        Mathis       Jeff"
      ]
     },
     "execution_count": 4,
     "metadata": {},
     "output_type": "execute_result"
    }
   ],
   "source": [
    "rangerPlayers_df = pd.DataFrame()\n",
    "\n",
    "rangerFirst = []\n",
    "rangerLast = []\n",
    "\n",
    "for player in rangerPlayersList:\n",
    "    nameSplit = player.split()\n",
    "    first = nameSplit[0]\n",
    "    last = nameSplit[1]\n",
    "    \n",
    "    rangerFirst.append(first)\n",
    "    rangerLast.append(last)\n",
    "    \n",
    "\n",
    "rangerPlayers_df[\"last_name\"] = rangerLast\n",
    "rangerPlayers_df[\"first_name\"] = rangerFirst\n",
    "\n",
    "rangerPlayers_df"
   ]
  },
  {
   "cell_type": "code",
   "execution_count": 5,
   "metadata": {},
   "outputs": [],
   "source": [
    "basicStats = \"bball_data/savant_2019_batStats_basic.csv\"\n",
    "basicStatsReduced = \"bball_data/savant_2019_batStats_basic_reduced.csv\"\n",
    "statcastStats = \"bball_data/savant_2019_batStats_statcast.csv\"\n",
    "statcastStatsReduced = \"bball_data/savant_2019_batStats_statcast.csv\"\n",
    "\n",
    "df_basic = pd.read_csv(basicStats)\n",
    "df_statcast = pd.read_csv(statcastStats)\n",
    "df_basic_red = pd.read_csv(basicStatsReduced)\n",
    "df_statcast_red = pd.read_csv(statcastStatsReduced)"
   ]
  },
  {
   "cell_type": "code",
   "execution_count": 6,
   "metadata": {},
   "outputs": [],
   "source": [
    "basicPStats = \"bball_data/savant_2019_pitStats_basic.csv\"\n",
    "basicPStatsReduced = \"bball_data/savant_2019_pitStats_basic_reduced.csv\"\n",
    "statcastPStats = \"bball_data/savant_2019_pitStats_statcast.csv\"\n",
    "\n",
    "df_basicP = pd.read_csv(basicPStats)\n",
    "df_basicP_red = pd.read_csv(basicPStatsReduced)\n",
    "df_statcastP = pd.read_csv(statcastPStats)\n"
   ]
  },
  {
   "cell_type": "code",
   "execution_count": 14,
   "metadata": {},
   "outputs": [],
   "source": [
    "cols =  ['last_name','first_name','b_ab','b_total_pa', 'b_total_hits', 'b_home_run', 'batting_avg', 'launch_angle_avg', \n",
    "        'sweet_spot_percent', 'barrels', 'barrel_batted_rate', 'solidcontact_percent', 'hard_hit_percent', \n",
    "        'z_swing_percent', 'z_swing_miss_percent', 'oz_swing_percent', 'oz_swing_miss_percent', 'iz_contact_percent', \n",
    "        'in_zone_swing_miss', 'in_zone_swing', 'whiff_percent', 'swing_percent', 'pull_percent', 'straightaway_percent',\n",
    "        'opposite_percent', 'batted_ball', 'groundballs_percent', 'flyballs_percent', 'linedrives_percent', 'popups_percent']          "
   ]
  },
  {
   "cell_type": "code",
   "execution_count": 26,
   "metadata": {},
   "outputs": [
    {
     "data": {
      "text/plain": [
       "b_ab                     0.762636\n",
       "b_total_pa               0.783505\n",
       "b_total_hits             0.755088\n",
       "b_home_run               1.000000\n",
       "batting_avg              0.423419\n",
       "launch_angle_avg         0.290549\n",
       "sweet_spot_percent       0.294426\n",
       "barrels                  0.933896\n",
       "barrel_batted_rate       0.645840\n",
       "solidcontact_percent     0.414010\n",
       "hard_hit_percent         0.577291\n",
       "z_swing_percent          0.151986\n",
       "z_swing_miss_percent     0.063451\n",
       "oz_swing_percent        -0.055247\n",
       "oz_swing_miss_percent    0.009719\n",
       "iz_contact_percent      -0.063641\n",
       "in_zone_swing_miss       0.723766\n",
       "in_zone_swing            0.777073\n",
       "whiff_percent            0.057812\n",
       "swing_percent           -0.025695\n",
       "pull_percent             0.298425\n",
       "straightaway_percent    -0.189076\n",
       "opposite_percent        -0.246213\n",
       "batted_ball              0.701254\n",
       "groundballs_percent     -0.390158\n",
       "flyballs_percent         0.437768\n",
       "linedrives_percent       0.081417\n",
       "popups_percent           0.049064\n",
       "Name: b_home_run, dtype: float64"
      ]
     },
     "execution_count": 26,
     "metadata": {},
     "output_type": "execute_result"
    }
   ],
   "source": [
    "df_sub = df_statcast[cols]\n",
    "df_sub.corr()['b_home_run']"
   ]
  },
  {
   "cell_type": "code",
   "execution_count": 31,
   "metadata": {},
   "outputs": [
    {
     "data": {
      "text/plain": [
       "b_home_run            1.000000\n",
       "b_total_hits          0.755088\n",
       "barrel_batted_rate    0.645840\n",
       "hard_hit_percent      0.577291\n",
       "in_zone_swing         0.777073\n",
       "pull_percent          0.298425\n",
       "batted_ball           0.701254\n",
       "flyballs_percent      0.437768\n",
       "Name: b_home_run, dtype: float64"
      ]
     },
     "execution_count": 31,
     "metadata": {},
     "output_type": "execute_result"
    }
   ],
   "source": [
    "highCorrs = ['b_home_run', 'b_total_hits', 'barrel_batted_rate', 'hard_hit_percent', \n",
    "             'in_zone_swing', 'pull_percent', 'batted_ball', 'flyballs_percent']\n",
    "\n",
    "df_sub2 = df_statcast[highCorrs]\n",
    "\n",
    "df_sub2.corr()['b_home_run']"
   ]
  },
  {
   "cell_type": "code",
   "execution_count": 30,
   "metadata": {},
   "outputs": [],
   "source": [
    "y = df_sub2['b_home_run']\n",
    "features = ['b_total_hits', 'barrel_batted_rate', 'hard_hit_percent', \n",
    "             'in_zone_swing', 'pull_percent', 'batted_ball', 'flyballs_percent']\n",
    "X = features"
   ]
  },
  {
   "cell_type": "code",
   "execution_count": null,
   "metadata": {},
   "outputs": [],
   "source": []
  },
  {
   "cell_type": "code",
   "execution_count": null,
   "metadata": {},
   "outputs": [],
   "source": []
  },
  {
   "cell_type": "code",
   "execution_count": null,
   "metadata": {},
   "outputs": [],
   "source": []
  },
  {
   "cell_type": "code",
   "execution_count": null,
   "metadata": {},
   "outputs": [],
   "source": []
  },
  {
   "cell_type": "code",
   "execution_count": null,
   "metadata": {},
   "outputs": [],
   "source": []
  },
  {
   "cell_type": "code",
   "execution_count": null,
   "metadata": {},
   "outputs": [],
   "source": []
  },
  {
   "cell_type": "code",
   "execution_count": 13,
   "metadata": {},
   "outputs": [
    {
     "data": {
      "text/plain": [
       "Index(['last_name', 'first_name', 'year', 'b_ab', 'b_total_pa', 'b_total_hits',\n",
       "       'b_single', 'b_double', 'b_triple', 'b_home_run', 'b_strikeout',\n",
       "       'b_walk', 'b_k_percent', 'b_bb_percent', 'batting_avg', 'slg_percent',\n",
       "       'on_base_percent', 'on_base_plus_slg', 'b_rbi', 'b_total_bases',\n",
       "       'b_ball', 'b_called_strike', 'b_intent_ball', 'b_intent_walk',\n",
       "       'b_pitchout', 'b_swinging_strike', 'r_run', 'b_total_ball',\n",
       "       'b_total_strike', 'b_total_swinging_strike', 'b_total_pitches', 'xba',\n",
       "       'xslg', 'woba', 'xwoba', 'xobp', 'xiso', 'wobacon', 'xwobacon', 'bacon',\n",
       "       'xbacon', 'xbadiff', 'xslgdiff', 'wobadif', 'exit_velocity_avg',\n",
       "       'launch_angle_avg', 'sweet_spot_percent', 'barrels',\n",
       "       'barrel_batted_rate', 'solidcontact_percent', 'flareburner_percent',\n",
       "       'poorlyunder_percent', 'poorlytopped_percent', 'poorlyweak_percent',\n",
       "       'hard_hit_percent', 'z_swing_percent', 'z_swing_miss_percent',\n",
       "       'oz_swing_percent', 'oz_swing_miss_percent', 'oz_contact_percent',\n",
       "       'out_zone_swing_miss', 'out_zone_swing', 'out_zone_percent', 'out_zone',\n",
       "       'meatball_swing_percent', 'meatball_percent', 'pitch_count_offspeed',\n",
       "       'pitch_count_fastball', 'pitch_count_breaking', 'pitch_count',\n",
       "       'iz_contact_percent', 'in_zone_swing_miss', 'in_zone_swing',\n",
       "       'in_zone_percent', 'in_zone', 'edge_percent', 'edge', 'whiff_percent',\n",
       "       'swing_percent', 'pull_percent', 'straightaway_percent',\n",
       "       'opposite_percent', 'batted_ball', 'f_strike_percent',\n",
       "       'groundballs_percent', 'groundballs', 'flyballs_percent', 'flyballs',\n",
       "       'linedrives_percent', 'linedrives', 'popups_percent', 'popups'],\n",
       "      dtype='object')"
      ]
     },
     "execution_count": 13,
     "metadata": {},
     "output_type": "execute_result"
    }
   ],
   "source": [
    "df_statcast.columns"
   ]
  },
  {
   "cell_type": "code",
   "execution_count": null,
   "metadata": {},
   "outputs": [],
   "source": [
    "df_basicP_red.p_era = ((df_basicP_red.p_earned_run/df_basicP_red.p_formatted_ip)*(9))"
   ]
  },
  {
   "cell_type": "code",
   "execution_count": null,
   "metadata": {},
   "outputs": [],
   "source": [
    "averageBatter = df_basic_red.mean()"
   ]
  },
  {
   "cell_type": "code",
   "execution_count": null,
   "metadata": {},
   "outputs": [],
   "source": [
    "averagePitcher = df_basicP_red.mean()"
   ]
  },
  {
   "cell_type": "code",
   "execution_count": null,
   "metadata": {},
   "outputs": [],
   "source": [
    "df_basicP_red.loc[df_basicP_red.p_era == 1.8]"
   ]
  },
  {
   "cell_type": "code",
   "execution_count": null,
   "metadata": {},
   "outputs": [],
   "source": [
    "df_basic_red.head()"
   ]
  },
  {
   "cell_type": "code",
   "execution_count": null,
   "metadata": {},
   "outputs": [],
   "source": [
    "df_statcast_red"
   ]
  },
  {
   "cell_type": "code",
   "execution_count": null,
   "metadata": {},
   "outputs": [],
   "source": [
    "df_statcast.b_total_pa.min()              "
   ]
  },
  {
   "cell_type": "code",
   "execution_count": null,
   "metadata": {},
   "outputs": [],
   "source": [
    "rangerPlayers_df.head()"
   ]
  },
  {
   "cell_type": "code",
   "execution_count": null,
   "metadata": {},
   "outputs": [],
   "source": [
    "correctList = []\n",
    "\n",
    "for index, row in rangerPlayers_df.iterrows():\n",
    "    dude = df_basic.loc[(df_basic.last_name == row.last_name) & (df_basic.first_name == row.first_name)]\n",
    "    if (dude.first_name == row.first_name).any():\n",
    "        correctList.append(dude)\n",
    "    else:\n",
    "        print('no')"
   ]
  },
  {
   "cell_type": "code",
   "execution_count": null,
   "metadata": {},
   "outputs": [],
   "source": [
    "rangers_df = pd.concat(correctList)\n",
    "rangers_df.reset_index(drop=True)"
   ]
  },
  {
   "cell_type": "code",
   "execution_count": null,
   "metadata": {},
   "outputs": [],
   "source": [
    "correctList = []\n",
    "\n",
    "for index, row in rangerPlayers_df.iterrows():\n",
    "    dude = df_statcast.loc[(df_statcast.last_name == row.last_name) & (df_statcast.first_name == row.first_name)]\n",
    "    if (dude.first_name == row.first_name).any():\n",
    "        correctList.append(dude)\n",
    "    else:\n",
    "        print('no')"
   ]
  },
  {
   "cell_type": "code",
   "execution_count": null,
   "metadata": {},
   "outputs": [],
   "source": [
    "rangersStatcast_df = pd.concat(correctList)\n",
    "rangersStatcast_df.reset_index(drop=True)"
   ]
  },
  {
   "cell_type": "code",
   "execution_count": null,
   "metadata": {},
   "outputs": [],
   "source": [
    "x = df_basic.b_k_percent\n",
    "y = df_basic.b_strikeout                                           \n",
    "\n",
    "\n",
    "plt.figure(figsize=(10,6))\n",
    "\n",
    "plt.scatter(x, y)\n",
    "\n",
    "\n",
    "\n",
    "plt.show()"
   ]
  },
  {
   "cell_type": "code",
   "execution_count": null,
   "metadata": {},
   "outputs": [],
   "source": [
    "averageBatter"
   ]
  }
 ],
 "metadata": {
  "kernelspec": {
   "display_name": "Python 3",
   "language": "python",
   "name": "python3"
  },
  "language_info": {
   "codemirror_mode": {
    "name": "ipython",
    "version": 3
   },
   "file_extension": ".py",
   "mimetype": "text/x-python",
   "name": "python",
   "nbconvert_exporter": "python",
   "pygments_lexer": "ipython3",
   "version": "3.8.3"
  }
 },
 "nbformat": 4,
 "nbformat_minor": 4
}
